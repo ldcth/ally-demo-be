{
 "cells": [
  {
   "cell_type": "code",
   "execution_count": 4,
   "metadata": {},
   "outputs": [],
   "source": [
    "import pandas as pd\n",
    "\n",
    "# Read the CSV file\n",
    "df = pd.read_csv('./google-maps-businesses.csv')\n",
    "\n",
    "# Drop unnecessary columns\n",
    "columns_to_drop = [\n",
    "    'description',  # Empty or redundant description\n",
    "    'price_range',  # Review URL is not needed\n",
    "    'hotel_star_ratings',   # Place URL is not needed\n",
    "    'category_search_input', # Mostly empty\n",
    "    'hotel_amenities',\n",
    "    'services_provided',\n",
    "    'place_id',\n",
    "    'lon',\n",
    "    'lat',\n",
    "    'reviews',\n",
    "    'description'\n",
    "]\n",
    "\n",
    "# Drop the columns and create cleaned dataframe\n",
    "df_cleaned = df.drop(columns=columns_to_drop)"
   ]
  },
  {
   "cell_type": "code",
   "execution_count": 5,
   "metadata": {},
   "outputs": [],
   "source": [
    "# Drop rows where address is blank\n",
    "df_cleaned = df_cleaned.dropna(subset=['address'])\n",
    "# Or alternatively:\n",
    "# df_cleaned = df_cleaned[df_cleaned['address'].str.strip() != '']"
   ]
  },
  {
   "cell_type": "code",
   "execution_count": 6,
   "metadata": {},
   "outputs": [],
   "source": [
    "# Save the cleaned CSV\n",
    "df_cleaned.to_csv('./google-maps-businesses-cleaned.csv', index=False)"
   ]
  },
  {
   "cell_type": "code",
   "execution_count": null,
   "metadata": {},
   "outputs": [],
   "source": []
  }
 ],
 "metadata": {
  "kernelspec": {
   "display_name": "ally-demo",
   "language": "python",
   "name": "python3"
  },
  "language_info": {
   "codemirror_mode": {
    "name": "ipython",
    "version": 3
   },
   "file_extension": ".py",
   "mimetype": "text/x-python",
   "name": "python",
   "nbconvert_exporter": "python",
   "pygments_lexer": "ipython3",
   "version": "3.10.13"
  }
 },
 "nbformat": 4,
 "nbformat_minor": 2
}
